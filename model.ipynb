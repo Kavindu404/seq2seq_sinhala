{
 "cells": [
  {
   "cell_type": "code",
   "execution_count": null,
   "id": "c79318a5",
   "metadata": {},
   "outputs": [],
   "source": [
    "\n"
   ]
  },
  {
   "cell_type": "code",
   "execution_count": 1,
   "id": "58d3bcdd",
   "metadata": {},
   "outputs": [],
   "source": [
    "import tensorflow as tf\n",
    "device_name = tf.test.gpu_device_name()\n",
    "# if device_name != '/device:GPU:0':\n",
    "#   raise SystemError('GPU device not found')\n",
    "# print('Found GPU at: {}'.format(device_name))\n",
    "# print(tf.test.is_built_with_cuda())\n",
    "import numpy as np\n",
    "from tensorflow import keras\n",
    "import random\n",
    "import string\n",
    "import pandas as pd\n",
    "import re\n",
    "from tqdm import tqdm\n",
    "import pickle\n",
    "import zipfile\n",
    "# import wget\n"
   ]
  },
  {
   "cell_type": "code",
   "execution_count": 2,
   "id": "1dd5d292",
   "metadata": {},
   "outputs": [],
   "source": [
    "# !curl -O http://www.manythings.org/anki/fra-eng.zip\n",
    "# with zipfile.ZipFile(\"fra-eng.zip\",\"r\") as zip_ref:\n",
    "#     zip_ref.extractall(\"targetdir\")\n",
    "\n",
    "# txt = open(\"D:/Mithma/SLIIT/Y4/CDAP/word_frequency_list_2M.si\", \"r\", encoding=\"utf8\")\n",
    "# f= txt.read()\n",
    "\n",
    "url='https://drive.google.com/file/d/1SeqwPPUFKL8t72j5VkhNWTvY84cnaAgX/view?usp=sharing'\n",
    "url='https://drive.google.com/uc?id=' + url.split('/')[-2]\n",
    "dataset = pd.read_csv(url)\n",
    "print(dataset)\n",
    "\n",
    "\n"
   ]
  },
  {
   "cell_type": "code",
   "execution_count": 3,
   "id": "c6b2d501",
   "metadata": {},
   "outputs": [
    {
     "name": "stdout",
     "output_type": "stream",
     "text": [
      "D:/Mithma/SLIIT/Y4/CDAP/word_frequency_list_2M.si\n"
     ]
    }
   ],
   "source": [
    "num_samples = 120000   # Number of samples to train on.\n",
    "data_path = url  # Path to the data txt file on disk.\n",
    "print(data_path)"
   ]
  },
  {
   "cell_type": "code",
   "execution_count": 4,
   "id": "d890d006",
   "metadata": {},
   "outputs": [],
   "source": [
    "batch_size = 64  # Batch size for training.\n",
    "epochs = 100  # Number of epochs to train for.\n",
    "latent_dim = 128  # Latent dimensionality of the encoding space.\n",
    "output_dim = 64\n"
   ]
  },
  {
   "cell_type": "code",
   "execution_count": 5,
   "id": "06601cb8",
   "metadata": {},
   "outputs": [],
   "source": [
    "# unique_list = []\n",
    "\n",
    "# c1 = []\n",
    "# with open('D:/Mithma/SLIIT/Y4/CDAP/word_frequency_list_2M.si', 'r', encoding=\"utf-8\") as wordList:\n",
    "#     question_list = []\n",
    "#     answer_list = []\n",
    "#     for line in wordList.readlines():\n",
    "#         question = line.split(' ')\n",
    "#         question_list.append(question)\n",
    "        "
   ]
  },
  {
   "cell_type": "code",
   "execution_count": null,
   "id": "a10bdd9c",
   "metadata": {},
   "outputs": [],
   "source": [
    "# Vectorize the data.\n",
    "input_texts = []\n",
    "target_texts = []\n",
    "input_ =[]\n",
    "tar_ =[]\n",
    "input_characters = set()\n",
    "target_characters = set()\n",
    "with open(data_path, \"r\", encoding=\"utf-8\") as f:\n",
    "    lines = f.read().split(\"\\n\")\n",
    "\n",
    "token_list=[ \n",
    "'අ', 'ආ', 'ඇ', 'ඈ', 'ඉ', 'ඊ', 'උ', 'ඌ', 'එ', 'ඒ', 'ඓ', 'ඔ', 'ඕ', 'ඖ', 'ඍ',\n",
    "'ක', 'කා', 'කැ', 'කෑ', 'කි', 'කී', 'කු', 'කූ', 'කෙ', 'කේ', 'කෛ', 'කො', 'කෝ', 'කෞ', \n",
    "'ඛ', 'ඛා', 'ඛැ' , 'ඛෑ', 'ඛි' , 'ඛී' , 'ඛු' , 'ඛූ', 'ඛෙ', 'ඛේ', 'ඛෛ', 'ඛො', 'ඛෝ', 'ඛෞ',\n",
    "'ග', 'ගා', 'ගැ', 'ගෑ','ගි', 'ගී', 'ගු' , 'ගූ', 'ගෙ', 'ගේ', 'ගෛ', 'ගො' ,'ගෝ' ,'ගෞ',\n",
    "'ඝ', 'ඝා', 'ඝැ', 'ඝෑ', 'ඝි', 'ඝී', 'ඝු', 'ඝූ', 'ඝෙ', 'ඝේ', 'ඝෛ', 'ඝො', 'ඝෝ', 'ඝෞ',\n",
    "'ඞ', 'ඞා', 'ඞැ', 'ඞෑ','ඞි','ඞී', 'ඞු','ඞූ', 'ඞෙ', 'ඞේ', 'ඞෛ', 'ඞො','ඞෝ','ඞෞ',\n",
    "'ඟ', 'ඟා', 'ඟැ', 'ඟෑ', 'ඟි', 'ඟී', 'ඟු', 'ඟූ', 'ඟෙ','ඟේ','ඟෛ','ඟො','ඟෝ','ඟෞ',\n",
    "'ච', 'චා', 'චැ', 'චෑ', 'චි', 'චී', 'චු', 'චූ', 'චෙ','චේ','චෛ','චො','චෝ','චෞ',\n",
    "'ඡ', 'ඡා', 'ඡැ', 'ඡෑ', 'ඡි', 'ඡී', 'ඡු', 'ඡූ', 'ඡෙ','ඡේ','ඡෛ','ඡො','ඡෝ','ඡෞ',\n",
    "'ජ', 'ජා', 'ජැ', 'ජෑ', 'ජි', 'ජී', 'ජු', 'ජූ', 'ජෙ','ජේ','ජෛ','ජො','ජෝ','ජෞ',\n",
    "'ඣ', 'ඣා', 'ඣැ', 'ඣෑ', 'ඣි', 'ඣී', 'ඣු', 'ඣූ', 'ඣෙ','ඣේ','ඣෛ','ඣො','ඣෝ','ඣෞ',\n",
    "'ඤ', 'ඤා', 'ඤැ', 'ඤෑ', 'ඤි', 'ඤී', 'ඤු', 'ඤූ', 'ඤෙ','ඤේ','ඤෛ','ඤො','ඤෝ','ඤෞ',\n",
    "'ඥ', 'ඥා', 'ඥැ', 'ඥෑ', 'ඥි', 'ඥී', 'ඥු', 'ඥූ', 'ඥෙ','ඥේ','ඥෛ','ඥො','ඥෝ','ඥෞ',\n",
    "    'ඦ', 'ඦා', 'ඦැ', 'ඦෑ', 'ඦි', 'ඦී', 'ඦු', 'ඦූූ', 'ඦෙ','ඦේ','ඦෛ','ඦො','ඦෝ','ඦෞ',\n",
    "    'ට', 'ටා', 'ටැ', 'ටෑ', 'ටි', 'ටී', 'ටු', 'ටූ', 'ටෙ','ටේ','ටෛ','ටො','ටෝ','ටෞ',\n",
    "    'ඨ', 'ඨා', 'ඨැ', 'ඨෑ', 'ඨි', 'ඨී', 'ඨු', 'ඨූ', 'ඨෙ','ඨේ','ඨෛ','ඨො','ඨෝ','ඨෞ',\n",
    "\n",
    "\n",
    "]\n",
    "\n",
    "for line in lines[: min(num_samples, len(lines) - 1)]:\n",
    "    for _ in range(5):\n",
    "        \n",
    "        input_text, target_text, _ = line.split(\" \")\n",
    "\n",
    "        # input_text = re.sub(r'[^a-zA-Z ]+', '', input_text)\n",
    "        target_text = \"\\t\" + input_text + \"\\n\"\n",
    "        for i in range(np.random.choice(np.arange(0, 2), p=[0.1, 0.9])):\n",
    "            input_text = input_text.replace(random.choice(list(input_text)),random.choice(token_list))\n",
    "\n",
    "        input_texts.append(input_text.lower())\n",
    "        target_texts.append(target_text)\n",
    "        for char in input_text.lower():\n",
    "            if char not in input_characters:\n",
    "                input_characters.add(char)\n",
    "        for char in target_text:\n",
    "            if char not in target_characters:\n",
    "                target_characters.add(char)\n",
    "              \n",
    "\n",
    "input_characters = sorted(list(input_characters))\n",
    "target_characters = sorted(list(target_characters))\n",
    "num_encoder_tokens = len(input_characters)\n",
    "num_decoder_tokens = len(target_characters)\n",
    "max_encoder_seq_length = max([len(txt) for txt in input_texts])\n",
    "max_decoder_seq_length = max([len(txt) for txt in target_texts])\n",
    "\n",
    "\n",
    "print(\"Number of samples:\", len(input_texts))\n",
    "print(\"Number of unique input tokens:\", num_encoder_tokens)\n",
    "print(\"Number of unique output tokens:\", num_decoder_tokens)\n",
    "print(\"Max sequence length for inputs:\", max_encoder_seq_length)\n",
    "print(\"Max sequence length for outputs:\", max_decoder_seq_length)\n",
    "\n",
    "input_token_index = dict([(char, i) for i, char in enumerate(input_characters)])\n",
    "target_token_index = dict([(char, i) for i, char in enumerate(target_characters)])\n",
    "\n",
    "encoder_input_data = np.zeros(\n",
    "    (len(input_texts), max_encoder_seq_length, num_encoder_tokens), dtype=\"float32\"\n",
    ")\n",
    "decoder_input_data = np.zeros(\n",
    "    (len(input_texts), max_decoder_seq_length, num_decoder_tokens), dtype=\"float32\"\n",
    ")\n",
    "decoder_target_data = np.zeros(\n",
    "    (len(input_texts), max_decoder_seq_length, num_decoder_tokens), dtype=\"float32\"\n",
    ")\n",
    "\n",
    "for i, (input_text, target_text) in enumerate(zip(input_texts, target_texts)):\n",
    "    for t, char in enumerate(input_text):\n",
    "        encoder_input_data[i, t, input_token_index[char]] = 1.0\n",
    "    # encoder_input_data[i, t + 1 :, input_token_index[\" \"]] = 1.0\n",
    "    for t, char in enumerate(target_text):\n",
    "        # decoder_target_data is ahead of decoder_input_data by one timestep\n",
    "        decoder_input_data[i, t, target_token_index[char]] = 1.0\n",
    "        if t > 0:\n",
    "            # decoder_target_data will be ahead by one timestep\n",
    "            # and will not include the start character.\n",
    "            decoder_target_data[i, t - 1, target_token_index[char]] = 1.0\n",
    "    # decoder_input_data[i, t + 1 :, target_token_index[\" \"]] = 1.0\n",
    "    # decoder_target_data[i, t:, target_token_index[\" \"]] = 1.0\n",
    "\n",
    "\n"
   ]
  },
  {
   "cell_type": "code",
   "execution_count": null,
   "id": "890c5d69",
   "metadata": {},
   "outputs": [],
   "source": [
    "input_token_index"
   ]
  },
  {
   "cell_type": "code",
   "execution_count": null,
   "id": "562fbdcb",
   "metadata": {},
   "outputs": [],
   "source": [
    "# Define an input sequence and process it.\n",
    "encoder_inputs = keras.Input(shape=(None, num_encoder_tokens))\n",
    "encoder = keras.layers.LSTM(latent_dim, return_state=True, dropout=0.4)\n",
    "encoder_outputs, state_h, state_c = encoder(encoder_inputs)\n",
    "\n",
    "# We discard `encoder_outputs` and only keep the states.\n",
    "encoder_states = [state_h, state_c]\n",
    "\n",
    "# Set up the decoder, using `encoder_states` as initial state.\n",
    "decoder_inputs = keras.Input(shape=(None, num_decoder_tokens))\n",
    "\n",
    "# We set up our decoder to return full output sequences,\n",
    "# and to return internal states as well. We don't use the\n",
    "# return states in the training model, but we will use them in inference.\n",
    "decoder_lstm = keras.layers.LSTM(latent_dim, return_sequences=True, return_state=True, dropout=0.4)\n",
    "decoder_outputs, _, _ = decoder_lstm(decoder_inputs, initial_state=encoder_states)\n",
    "decoder_dense = keras.layers.Dense(num_decoder_tokens, activation=\"softmax\")\n",
    "decoder_outputs = decoder_dense(decoder_outputs)\n",
    "\n",
    "# Define the model that will turn\n",
    "# `encoder_input_data` & `decoder_input_data` into `decoder_target_data`\n",
    "model = keras.Model([encoder_inputs, decoder_inputs], decoder_outputs)"
   ]
  },
  {
   "cell_type": "code",
   "execution_count": null,
   "id": "64674807",
   "metadata": {},
   "outputs": [],
   "source": [
    "model.compile(\n",
    "    optimizer=\"adam\", loss=\"categorical_crossentropy\", metrics=[\"accuracy\"]\n",
    ")"
   ]
  },
  {
   "cell_type": "code",
   "execution_count": null,
   "id": "81639d07",
   "metadata": {},
   "outputs": [],
   "source": [
    "model.fit(\n",
    "    [encoder_input_data, decoder_input_data],\n",
    "    decoder_target_data,\n",
    "    batch_size=batch_size,\n",
    "    epochs=5,\n",
    "    validation_split=0.2,\n",
    ")\n",
    "# Save model\n",
    "model.save(\"auto.h5\")"
   ]
  },
  {
   "cell_type": "code",
   "execution_count": null,
   "id": "953b2ee1",
   "metadata": {},
   "outputs": [],
   "source": [
    "model.summary()"
   ]
  },
  {
   "cell_type": "code",
   "execution_count": null,
   "id": "ca3edd70",
   "metadata": {},
   "outputs": [],
   "source": [
    "tf.keras.utils.plot_model(\n",
    "    model,\n",
    "    to_file=\"model.png\",\n",
    "    show_shapes=True,\n",
    "    show_dtype=False,\n",
    "    show_layer_names=True,\n",
    "    rankdir=\"TB\",\n",
    "    expand_nested=False,\n",
    "    dpi=96,\n",
    ")"
   ]
  },
  {
   "cell_type": "code",
   "execution_count": null,
   "id": "d5873b44",
   "metadata": {},
   "outputs": [],
   "source": [
    "# Define sampling models\n",
    "# Restore the model and construct the encoder and decoder.\n",
    "#model = keras.models.load_model(\"s2s\")\n",
    "\n",
    "encoder_inputs = model.input[0]  # input_1\n",
    "encoder_outputs, state_h_enc, state_c_enc = model.layers[2].output  # lstm_1\n",
    "encoder_states = [state_h_enc, state_c_enc]\n",
    "encoder_model = keras.Model(encoder_inputs, encoder_states)\n",
    "\n",
    "decoder_inputs = model.input[1]  # input_2\n",
    "decoder_state_input_h = keras.Input(shape=(latent_dim,), name=\"input_3\")\n",
    "decoder_state_input_c = keras.Input(shape=(latent_dim,), name=\"input_5\")\n",
    "decoder_states_inputs = [decoder_state_input_h, decoder_state_input_c]\n",
    "decoder_lstm = model.layers[3]\n",
    "decoder_outputs, state_h_dec, state_c_dec = decoder_lstm(\n",
    "    decoder_inputs, initial_state=decoder_states_inputs\n",
    ")\n",
    "decoder_states = [state_h_dec, state_c_dec]\n",
    "decoder_dense = model.layers[4]\n",
    "decoder_outputs = decoder_dense(decoder_outputs)\n",
    "decoder_model = keras.Model(\n",
    "    [decoder_inputs] + decoder_states_inputs, [decoder_outputs] + decoder_states\n",
    ")\n",
    "\n",
    "# Reverse-lookup token index to decode sequences back to\n",
    "# something readable.\n",
    "reverse_input_char_index = dict((i, char) for char, i in input_token_index.items())\n",
    "reverse_target_char_index = dict((i, char) for char, i in target_token_index.items())\n",
    "\n",
    "\n",
    "def decode_sequence(input_seq):\n",
    "    # Encode the input as state vectors.\n",
    "    states_value = encoder_model.predict(input_seq)\n",
    "\n",
    "    # Generate empty target sequence of length 1.\n",
    "    target_seq = np.zeros((1, 1, num_decoder_tokens))\n",
    "    # Populate the first character of target sequence with the start character.\n",
    "    target_seq[0, 0, target_token_index[\"\\t\"]] = 1.0\n",
    "\n",
    "    # Sampling loop for a batch of sequences\n",
    "    # (to simplify, here we assume a batch of size 1).\n",
    "    stop_condition = False\n",
    "    decoded_sentence = \"\"\n",
    "    while not stop_condition:\n",
    "        output_tokens, h, c = decoder_model.predict([target_seq] + states_value)\n",
    "\n",
    "        # Sample a token\n",
    "        sampled_token_index = np.argmax(output_tokens[0, -1, :])\n",
    "        sampled_char = reverse_target_char_index[sampled_token_index]\n",
    "        decoded_sentence += sampled_char\n",
    "\n",
    "        # Exit condition: either hit max length\n",
    "        # or find stop character.\n",
    "        if sampled_char == \"\\n\" or len(decoded_sentence) > max_decoder_seq_length:\n",
    "            stop_condition = True\n",
    "\n",
    "        # Update the target sequence (of length 1).\n",
    "        target_seq = np.zeros((1, 1, num_decoder_tokens))\n",
    "        target_seq[0, 0, sampled_token_index] = 1.0\n",
    "\n",
    "        # Update states\n",
    "        states_value = [h, c]\n",
    "    return decoded_sentence"
   ]
  },
  {
   "cell_type": "code",
   "execution_count": null,
   "id": "50fab051",
   "metadata": {},
   "outputs": [],
   "source": [
    "test_text = \"ළමයා\"\n",
    "\n",
    "encoder_test_data = np.zeros(\n",
    "    (1, max_encoder_seq_length, num_encoder_tokens), dtype=\"float32\")\n",
    "\n",
    "for t, char in enumerate(test_text):\n",
    "    encoder_test_data[0, t, input_token_index[char]] = 1.0\n",
    "\n",
    "decoded_sentence = decode_sequence(encoder_test_data)\n",
    "print(decoded_sentence)"
   ]
  },
  {
   "cell_type": "code",
   "execution_count": null,
   "id": "6069fb43",
   "metadata": {},
   "outputs": [],
   "source": [
    "out = pd.DataFrame(columns = [\"input\", \"decoded\", \"target\"])\n",
    "tt = 0\n",
    "for seq_index in tqdm(range(57300, 57400)):\n",
    "    # Take one sequence (part of the training set)\n",
    "    # for trying out decoding.\n",
    "    input_seq = encoder_input_data[seq_index : seq_index + 1]\n",
    "    decoded_sentence = decode_sequence(input_seq)\n",
    "    out.loc[len(out.index)] = [input_texts[seq_index], decoded_sentence, target_texts[seq_index]]"
   ]
  },
  {
   "cell_type": "code",
   "execution_count": null,
   "id": "3449d7ef",
   "metadata": {},
   "outputs": [],
   "source": [
    "out.tail(20)\n",
    "np.shape(input_seq)\n",
    "tt"
   ]
  },
  {
   "cell_type": "code",
   "execution_count": null,
   "id": "5e23c78a",
   "metadata": {},
   "outputs": [],
   "source": [
    "f = open('var.pkl','wb')\n",
    "jj = {\"input_token_index\":input_token_index, \"target_token_index\":target_token_index, \"num_decoder_tokens\": num_decoder_tokens, \"max_encoder_seq_length\":max_encoder_seq_length, \"num_encoder_tokens\": num_encoder_tokens}\n",
    "pickle.dump(jj, f)\n",
    "f.close()"
   ]
  },
  {
   "cell_type": "code",
   "execution_count": null,
   "id": "997d4a57",
   "metadata": {},
   "outputs": [],
   "source": []
  }
 ],
 "metadata": {
  "kernelspec": {
   "display_name": "Python 3 (ipykernel)",
   "language": "python",
   "name": "python3"
  },
  "language_info": {
   "codemirror_mode": {
    "name": "ipython",
    "version": 3
   },
   "file_extension": ".py",
   "mimetype": "text/x-python",
   "name": "python",
   "nbconvert_exporter": "python",
   "pygments_lexer": "ipython3",
   "version": "3.10.3"
  },
  "vscode": {
   "interpreter": {
    "hash": "df95319d8ce4e1d89f5365ae10992bc1f65da593082b1d264e8f529830ec2f02"
   }
  }
 },
 "nbformat": 4,
 "nbformat_minor": 5
}
